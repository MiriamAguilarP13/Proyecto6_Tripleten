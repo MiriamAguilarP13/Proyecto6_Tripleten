{
 "cells": [
  {
   "cell_type": "markdown",
   "metadata": {},
   "source": [
    "# Análisis de Viajes Compartidos\n",
    "\n",
    "# Introducción  \n",
    "\n",
    "En la última década, el paradigma de transporte urbano ha experimentado una transformación significativa con la proliferación de empresas de viajes compartidos. Este fenómeno ha revolucionado la forma en que las personas se desplazan en entornos urbanos, ofreciendo alternativas flexibles y accesibles a los tradicionales servicios de taxi y transporte público.  \n",
    "\n",
    "El auge de las empresas de viajes compartidos se atribuye a una combinación de factores, entre ellos la facilidad de acceso a través de aplicaciones móviles, la comodidad de compartir viajes con otros usuarios, y una respuesta ágil a las demandas cambiantes de movilidad en entornos urbanos congestionados. Estos servicios han modificado la percepción del transporte, ofreciendo una opción viable y eficiente que se ajusta a los estilos de vida modernos.  \n",
    "\n",
    "# Descripción del proyecto\n",
    "\n",
    "Se está trabajando como analista para Zuber, una nueva empresa de viajes compartidos que se está lanzando en Chicago. La tarea es encontrar patrones en la información disponible. Se requiere comprender las preferencias de los pasajeros y el impacto de los factores externos en los viajes.  "
   ]
  },
  {
   "cell_type": "markdown",
   "metadata": {},
   "source": [
    "# Contenido\n",
    "\n",
    "* [Objetivo](#objetivo)\n",
    "* [Etapas](#etapas)\n",
    "* [Diccionario de Datos](#diccionario)\n",
    "* [Inicialización](#inicio)\n",
    "* [1 Preparar los datos](#preparar_datos)\n",
    "    * [1.1 Datos del número de viajes de cada compañía de taxis.](#df_trips_company)\n",
    "    * [1.2 Datos el promedio de viajes que terminaron en cada barrio de Chicago.](#df_avg_trips)\n",
    "    * [1.3 Datos sobre los viajes desde el Loop hasta el Aeropuerto Internacional O'Hare.](#df_loop_ohare)\n",
    "* [2 Análisis de los datos](#analisis_datos)\n",
    "    * [2.1 Análisis descriptivo del número de viajes de cada compañía de taxis.](#trips_company)\n",
    "    * [2.2 Análisis descriptivo del el promedio de viajes que terminaron en cada barrio de Chicago.](#avg_trips)\n",
    "    * [2.3 Análisis descriptivo sobre los viajes desde el Loop hasta el Aeropuerto Internacional O'Hare.](#loop_ohare)\n",
    "    * [2.4 Gráficos de las empresas de taxis y los 10 barrios principales por número de finalizaciones.](#taxi_duration)\n",
    "* [3 Prueba de Hipótesis](#hipotesis)\n",
    "* [4 Resumen y Conclusión General](#end)"
   ]
  },
  {
   "cell_type": "markdown",
   "metadata": {},
   "source": [
    "# Objetivo <a id='objetivo'></a>  \n",
    "\n",
    "* Comprender las preferencias de los pasajeros y el impacto de los factores externos en los viajes."
   ]
  },
  {
   "cell_type": "markdown",
   "metadata": {},
   "source": [
    "# Etapas <a id='etapas'></a>  \n",
    "\n",
    "Se tienen datasets con la información necesaria el número de viajes de cada compañía de taxis, el promedio de viajes que terminaron en cada barrio y las condiciones climáticas en el momento en el que comenzó el viaje con su duración. Se revisarán los datos antes de comenzar a analizar los datos. \n",
    "\n",
    "Pasos a realizar:\n",
    "1. Importar las librerías necesarias\n",
    "2. Descripción de los datos, leer y guardar el Dataset con Pandas.\n",
    "3. Procesamiento de los datos, preparar los datos para que sean analizados.\n",
    "4. Análisis de datos, formulación de hipótesis y creación de gráficos."
   ]
  },
  {
   "cell_type": "markdown",
   "metadata": {},
   "source": [
    "# Diccionario de Datos <a id='diccionario'></a>  \n",
    "\n",
    "• `project_sql_result_01.csv`. Contiene los siguientes datos:  \n",
    "    `company_name`: nombre de la empresa de taxis  \n",
    "    `trips_amount`: el número de viajes de cada compañía de taxis el 15 y 16 de noviembre de 2017.  \n",
    "    \n",
    "• `project_sql_result_04.csv`. Contiene los siguientes datos:  \n",
    "    `dropoff_location_name`: barrios de Chicago donde finalizaron los viajes.  \n",
    "    `average_trips`: el promedio de viajes que terminaron en cada barrio en noviembre de 2017.  \n",
    "    \n",
    "• `project_sql_result_07.csv`: Contiene datos sobre viajes desde el Loop hasta el Aeropuerto Internacional O'Hare. Valores de campo de la tabla:  \n",
    "    `start_ts`: fecha y hora de recogida.  \n",
    "    `weather_conditions`: condiciones climáticas en el momento en el que comenzó el viaje.  \n",
    "    `duration_seconds`: duración del viaje en segundos.  \n",
    "    \n"
   ]
  },
  {
   "cell_type": "markdown",
   "metadata": {},
   "source": [
    "# Inicialización <a id='inicio'></a>"
   ]
  },
  {
   "cell_type": "code",
   "execution_count": 1,
   "metadata": {},
   "outputs": [],
   "source": [
    "# importar librerías\n",
    "import pandas as pd\n",
    "import numpy as np\n",
    "from scipy import stats as st\n",
    "from matplotlib import pyplot as plt"
   ]
  },
  {
   "cell_type": "code",
   "execution_count": 2,
   "metadata": {},
   "outputs": [],
   "source": [
    "# Carga de los archivos de datos\n",
    "df_trips_company = pd.read_csv('files/datasets/project_sql_result_01.csv')\n",
    "df_avg_trips = pd.read_csv('files/datasets/project_sql_result_04.csv')\n",
    "df_loop_ohare = pd.read_csv('files/datasets/project_sql_result_07.csv')"
   ]
  },
  {
   "cell_type": "markdown",
   "metadata": {},
   "source": [
    "## Preparar los datos <a id='preparar_datos'></a>"
   ]
  },
  {
   "cell_type": "markdown",
   "metadata": {},
   "source": [
    "<span style=\"color: darkgreen;\">  \n",
    "    \n",
    "Se muestra la información general/resumida sobre los DataFrame\n",
    "    \n",
    "</span>"
   ]
  },
  {
   "cell_type": "markdown",
   "metadata": {},
   "source": [
    "### Datos del número de viajes de cada compañía de taxis   <a id='df_trips_company'></a>"
   ]
  },
  {
   "cell_type": "code",
   "execution_count": 3,
   "metadata": {},
   "outputs": [
    {
     "name": "stdout",
     "output_type": "stream",
     "text": [
      "<class 'pandas.core.frame.DataFrame'>\n",
      "RangeIndex: 64 entries, 0 to 63\n",
      "Data columns (total 2 columns):\n",
      " #   Column        Non-Null Count  Dtype \n",
      "---  ------        --------------  ----- \n",
      " 0   company_name  64 non-null     object\n",
      " 1   trips_amount  64 non-null     int64 \n",
      "dtypes: int64(1), object(1)\n",
      "memory usage: 1.1+ KB\n"
     ]
    }
   ],
   "source": [
    "df_trips_company.info()"
   ]
  },
  {
   "cell_type": "code",
   "execution_count": 4,
   "metadata": {},
   "outputs": [
    {
     "data": {
      "text/html": [
       "<div>\n",
       "<style scoped>\n",
       "    .dataframe tbody tr th:only-of-type {\n",
       "        vertical-align: middle;\n",
       "    }\n",
       "\n",
       "    .dataframe tbody tr th {\n",
       "        vertical-align: top;\n",
       "    }\n",
       "\n",
       "    .dataframe thead th {\n",
       "        text-align: right;\n",
       "    }\n",
       "</style>\n",
       "<table border=\"1\" class=\"dataframe\">\n",
       "  <thead>\n",
       "    <tr style=\"text-align: right;\">\n",
       "      <th></th>\n",
       "      <th>company_name</th>\n",
       "      <th>trips_amount</th>\n",
       "    </tr>\n",
       "  </thead>\n",
       "  <tbody>\n",
       "    <tr>\n",
       "      <th>0</th>\n",
       "      <td>Flash Cab</td>\n",
       "      <td>19558</td>\n",
       "    </tr>\n",
       "    <tr>\n",
       "      <th>1</th>\n",
       "      <td>Taxi Affiliation Services</td>\n",
       "      <td>11422</td>\n",
       "    </tr>\n",
       "    <tr>\n",
       "      <th>2</th>\n",
       "      <td>Medallion Leasing</td>\n",
       "      <td>10367</td>\n",
       "    </tr>\n",
       "    <tr>\n",
       "      <th>3</th>\n",
       "      <td>Yellow Cab</td>\n",
       "      <td>9888</td>\n",
       "    </tr>\n",
       "    <tr>\n",
       "      <th>4</th>\n",
       "      <td>Taxi Affiliation Service Yellow</td>\n",
       "      <td>9299</td>\n",
       "    </tr>\n",
       "  </tbody>\n",
       "</table>\n",
       "</div>"
      ],
      "text/plain": [
       "                      company_name  trips_amount\n",
       "0                        Flash Cab         19558\n",
       "1        Taxi Affiliation Services         11422\n",
       "2                Medallion Leasing         10367\n",
       "3                       Yellow Cab          9888\n",
       "4  Taxi Affiliation Service Yellow          9299"
      ]
     },
     "execution_count": 4,
     "metadata": {},
     "output_type": "execute_result"
    }
   ],
   "source": [
    "df_trips_company.head()"
   ]
  },
  {
   "cell_type": "markdown",
   "metadata": {},
   "source": [
    "### Datos el promedio de viajes que terminaron en cada barrio de Chicago  <a id='df_avg_trips'></a>"
   ]
  },
  {
   "cell_type": "code",
   "execution_count": 5,
   "metadata": {},
   "outputs": [
    {
     "name": "stdout",
     "output_type": "stream",
     "text": [
      "<class 'pandas.core.frame.DataFrame'>\n",
      "RangeIndex: 94 entries, 0 to 93\n",
      "Data columns (total 2 columns):\n",
      " #   Column                 Non-Null Count  Dtype  \n",
      "---  ------                 --------------  -----  \n",
      " 0   dropoff_location_name  94 non-null     object \n",
      " 1   average_trips          94 non-null     float64\n",
      "dtypes: float64(1), object(1)\n",
      "memory usage: 1.6+ KB\n"
     ]
    }
   ],
   "source": [
    "df_avg_trips.info()"
   ]
  },
  {
   "cell_type": "code",
   "execution_count": 6,
   "metadata": {},
   "outputs": [
    {
     "data": {
      "text/html": [
       "<div>\n",
       "<style scoped>\n",
       "    .dataframe tbody tr th:only-of-type {\n",
       "        vertical-align: middle;\n",
       "    }\n",
       "\n",
       "    .dataframe tbody tr th {\n",
       "        vertical-align: top;\n",
       "    }\n",
       "\n",
       "    .dataframe thead th {\n",
       "        text-align: right;\n",
       "    }\n",
       "</style>\n",
       "<table border=\"1\" class=\"dataframe\">\n",
       "  <thead>\n",
       "    <tr style=\"text-align: right;\">\n",
       "      <th></th>\n",
       "      <th>dropoff_location_name</th>\n",
       "      <th>average_trips</th>\n",
       "    </tr>\n",
       "  </thead>\n",
       "  <tbody>\n",
       "    <tr>\n",
       "      <th>0</th>\n",
       "      <td>Loop</td>\n",
       "      <td>10727.466667</td>\n",
       "    </tr>\n",
       "    <tr>\n",
       "      <th>1</th>\n",
       "      <td>River North</td>\n",
       "      <td>9523.666667</td>\n",
       "    </tr>\n",
       "    <tr>\n",
       "      <th>2</th>\n",
       "      <td>Streeterville</td>\n",
       "      <td>6664.666667</td>\n",
       "    </tr>\n",
       "    <tr>\n",
       "      <th>3</th>\n",
       "      <td>West Loop</td>\n",
       "      <td>5163.666667</td>\n",
       "    </tr>\n",
       "    <tr>\n",
       "      <th>4</th>\n",
       "      <td>O'Hare</td>\n",
       "      <td>2546.900000</td>\n",
       "    </tr>\n",
       "  </tbody>\n",
       "</table>\n",
       "</div>"
      ],
      "text/plain": [
       "  dropoff_location_name  average_trips\n",
       "0                  Loop   10727.466667\n",
       "1           River North    9523.666667\n",
       "2         Streeterville    6664.666667\n",
       "3             West Loop    5163.666667\n",
       "4                O'Hare    2546.900000"
      ]
     },
     "execution_count": 6,
     "metadata": {},
     "output_type": "execute_result"
    }
   ],
   "source": [
    "df_avg_trips.head()"
   ]
  },
  {
   "cell_type": "markdown",
   "metadata": {},
   "source": [
    "### Datos sobre los viajes desde el Loop hasta el Aeropuerto Internacional O'Hare  <a id='df_loop_ohare'></a>"
   ]
  },
  {
   "cell_type": "code",
   "execution_count": 7,
   "metadata": {},
   "outputs": [
    {
     "name": "stdout",
     "output_type": "stream",
     "text": [
      "<class 'pandas.core.frame.DataFrame'>\n",
      "RangeIndex: 1068 entries, 0 to 1067\n",
      "Data columns (total 3 columns):\n",
      " #   Column              Non-Null Count  Dtype  \n",
      "---  ------              --------------  -----  \n",
      " 0   start_ts            1068 non-null   object \n",
      " 1   weather_conditions  1068 non-null   object \n",
      " 2   duration_seconds    1068 non-null   float64\n",
      "dtypes: float64(1), object(2)\n",
      "memory usage: 25.2+ KB\n"
     ]
    }
   ],
   "source": [
    "df_loop_ohare.info()"
   ]
  },
  {
   "cell_type": "code",
   "execution_count": 8,
   "metadata": {},
   "outputs": [
    {
     "data": {
      "text/html": [
       "<div>\n",
       "<style scoped>\n",
       "    .dataframe tbody tr th:only-of-type {\n",
       "        vertical-align: middle;\n",
       "    }\n",
       "\n",
       "    .dataframe tbody tr th {\n",
       "        vertical-align: top;\n",
       "    }\n",
       "\n",
       "    .dataframe thead th {\n",
       "        text-align: right;\n",
       "    }\n",
       "</style>\n",
       "<table border=\"1\" class=\"dataframe\">\n",
       "  <thead>\n",
       "    <tr style=\"text-align: right;\">\n",
       "      <th></th>\n",
       "      <th>start_ts</th>\n",
       "      <th>weather_conditions</th>\n",
       "      <th>duration_seconds</th>\n",
       "    </tr>\n",
       "  </thead>\n",
       "  <tbody>\n",
       "    <tr>\n",
       "      <th>0</th>\n",
       "      <td>2017-11-25 16:00:00</td>\n",
       "      <td>Good</td>\n",
       "      <td>2410.0</td>\n",
       "    </tr>\n",
       "    <tr>\n",
       "      <th>1</th>\n",
       "      <td>2017-11-25 14:00:00</td>\n",
       "      <td>Good</td>\n",
       "      <td>1920.0</td>\n",
       "    </tr>\n",
       "    <tr>\n",
       "      <th>2</th>\n",
       "      <td>2017-11-25 12:00:00</td>\n",
       "      <td>Good</td>\n",
       "      <td>1543.0</td>\n",
       "    </tr>\n",
       "    <tr>\n",
       "      <th>3</th>\n",
       "      <td>2017-11-04 10:00:00</td>\n",
       "      <td>Good</td>\n",
       "      <td>2512.0</td>\n",
       "    </tr>\n",
       "    <tr>\n",
       "      <th>4</th>\n",
       "      <td>2017-11-11 07:00:00</td>\n",
       "      <td>Good</td>\n",
       "      <td>1440.0</td>\n",
       "    </tr>\n",
       "  </tbody>\n",
       "</table>\n",
       "</div>"
      ],
      "text/plain": [
       "              start_ts weather_conditions  duration_seconds\n",
       "0  2017-11-25 16:00:00               Good            2410.0\n",
       "1  2017-11-25 14:00:00               Good            1920.0\n",
       "2  2017-11-25 12:00:00               Good            1543.0\n",
       "3  2017-11-04 10:00:00               Good            2512.0\n",
       "4  2017-11-11 07:00:00               Good            1440.0"
      ]
     },
     "execution_count": 8,
     "metadata": {},
     "output_type": "execute_result"
    }
   ],
   "source": [
    "df_loop_ohare.head()"
   ]
  },
  {
   "cell_type": "markdown",
   "metadata": {},
   "source": [
    "<span style=\"color: darkgreen;\">  \n",
    "\n",
    "La la columna del DataFrame `df_loop_ohare` el tipo de datos es object, entonces se cambia el tipo de dato a date\n",
    "\n",
    "</span>"
   ]
  },
  {
   "cell_type": "code",
   "execution_count": 9,
   "metadata": {},
   "outputs": [],
   "source": [
    "df_loop_ohare['start_ts'] = pd.to_datetime(df_loop_ohare['start_ts'], format='%Y-%m-%d %H:%M:%S')"
   ]
  },
  {
   "cell_type": "code",
   "execution_count": 10,
   "metadata": {
    "scrolled": true
   },
   "outputs": [
    {
     "data": {
      "text/plain": [
       "start_ts              datetime64[ns]\n",
       "weather_conditions            object\n",
       "duration_seconds             float64\n",
       "dtype: object"
      ]
     },
     "execution_count": 10,
     "metadata": {},
     "output_type": "execute_result"
    }
   ],
   "source": [
    "# se revisan nuevamente lod tipos de datos del DataFrame\n",
    "df_loop_ohare.dtypes"
   ]
  },
  {
   "cell_type": "markdown",
   "metadata": {},
   "source": [
    "## Análisis de los datos <a id='analisis_datos'></a>"
   ]
  },
  {
   "cell_type": "markdown",
   "metadata": {},
   "source": [
    "<span style=\"color: darkgreen;\">\n",
    "    \n",
    "Se calculan los estadísticos descriptivos de cada DataFrame con el método `describe()`, para la varianza se emplea `var()` y para la moda `mode()`. También se grafica un histograma para cada conjunto de datos.  \n",
    "    \n",
    "</span>\n"
   ]
  },
  {
   "cell_type": "markdown",
   "metadata": {},
   "source": [
    "### Análisis descriptivo del número de viajes de cada compañía de taxis <a id='trips_company'></a>"
   ]
  },
  {
   "cell_type": "code",
   "execution_count": 11,
   "metadata": {
    "scrolled": true
   },
   "outputs": [
    {
     "name": "stdout",
     "output_type": "stream",
     "text": [
      "DataFrame df_trips_company:\n",
      "La varianza del número de viajes es: 14533709.0\n",
      "La moda del número de viajes es: 14 y 29\n",
      "count       64.000000\n",
      "mean      2145.484375\n",
      "std       3812.310186\n",
      "min          2.000000\n",
      "25%         20.750000\n",
      "50%        178.500000\n",
      "75%       2106.500000\n",
      "max      19558.000000\n",
      "Name: trips_amount, dtype: float64\n"
     ]
    }
   ],
   "source": [
    "print('DataFrame df_trips_company:')\n",
    "# Se calcula la varianza con var() del número de viajes de cada compañía\n",
    "print('La varianza del número de viajes es:', round(df_trips_company['trips_amount'].var(), 1))\n",
    "# se calcula la moda de los datos con mode() del número de viajes\n",
    "print('La moda del número de viajes es:', df_trips_company['trips_amount'].mode()[0], 'y', df_trips_company['trips_amount'].mode()[1])\n",
    "# se emplea el método describe() para calcular los estadísticos descriptivos como la media, mediana, desviación estándar\n",
    "print(df_trips_company['trips_amount'].describe())"
   ]
  },
  {
   "cell_type": "code",
   "execution_count": 12,
   "metadata": {
    "scrolled": true
   },
   "outputs": [
    {
     "data": {
      "image/png": "[encoded data removed]",
      "text/plain": [
       "<Figure size 1008x576 with 1 Axes>"
      ]
     },
     "metadata": {
      "needs_background": "light"
     },
     "output_type": "display_data"
    }
   ],
   "source": [
    "# se grafica el histograma para df_trips_company\n",
    "df_trips_company['trips_amount'].plot(kind='hist',\n",
    "                              bins= 40, \n",
    "                              color= 'darkcyan',\n",
    "                              figsize= [14,8]\n",
    "                             )\n",
    "\n",
    "\n",
    "plt.title('Número de viajes de cada compañía de taxis entre el 15 y 16 de noviembre de 2017.', fontsize= 14) # para colocar un título\n",
    "plt.ylabel('Frecuencia', fontsize= 14) # Para nombrar el eje y\n",
    "\n",
    "plt.show()"
   ]
  },
  {
   "cell_type": "markdown",
   "metadata": {},
   "source": [
    "<div style=\"background-color: lightyellow; padding: 10px;\">\n",
    "    \n",
    "<span style=\"color: darkblue;\">\n",
    "\n",
    "**Observaciones:**  \n",
    "Con base en los resultados se observa que la varianza es muy grande para la cantidad de viajes de cada compañia lo que indica que los datos estan dispersos alrededor de la media, podría indicar que hay valores atípicos. La suposición anterior se puede reforzar observando el valor de la media que es de 2145 y la mediana tiene un valor de 178, lo cuál indica y se observa en el historgrama que la distribución de los datos tiene un sesgo hacia la derecha, hay muchos datos altos que afectan la media. Por otro lado, el número de viajes más frecuente son 14 y 29.  \n",
    "    \n",
    "</span>\n",
    "\n",
    "</div>\n"
   ]
  },
  {
   "cell_type": "markdown",
   "metadata": {},
   "source": [
    "### Análisis descriptivo del el promedio de viajes que terminaron en cada barrio de Chicago <a id='avg_trips'></a>"
   ]
  },
  {
   "cell_type": "code",
   "execution_count": 13,
   "metadata": {},
   "outputs": [
    {
     "name": "stdout",
     "output_type": "stream",
     "text": [
      "DataFrame df_avg_trips:\n",
      "La varianza del promedio de viajes es: 2939822.6\n",
      "count       94.000000\n",
      "mean       599.953728\n",
      "std       1714.591098\n",
      "min          1.800000\n",
      "25%         14.266667\n",
      "50%         52.016667\n",
      "75%        298.858333\n",
      "max      10727.466667\n",
      "Name: average_trips, dtype: float64\n"
     ]
    }
   ],
   "source": [
    "print('DataFrame df_avg_trips:')\n",
    "# Se calcula la varianza con var() del promedio de viajes que terminaron en cada barrio de Chicago\n",
    "print('La varianza del promedio de viajes es:', round(df_avg_trips['average_trips'].var(), 1))\n",
    "# se emplea el método describe() para calcular los estadísticos descriptivos como la media, mediana, desviación estándar\n",
    "print(df_avg_trips['average_trips'].describe())"
   ]
  },
  {
   "cell_type": "code",
   "execution_count": 14,
   "metadata": {},
   "outputs": [
    {
     "data": {
      "image/png": "[encoded data removed]",
      "text/plain": [
       "<Figure size 1008x576 with 1 Axes>"
      ]
     },
     "metadata": {
      "needs_background": "light"
     },
     "output_type": "display_data"
    }
   ],
   "source": [
    "# se grafica el histograma para df_avg_trips\n",
    "df_avg_trips['average_trips'].plot(kind='hist',\n",
    "                              bins= 40, \n",
    "                              color= 'darkcyan',\n",
    "                              figsize= [14,8]\n",
    "                             )\n",
    "\n",
    "\n",
    "plt.title('Promedio de viajes que terminaron en cada barrio de Chicago en noviembre de 2017.', fontsize= 14) # para colocar un título\n",
    "plt.ylabel('Frecuencia', fontsize= 14) # Para nombrar el eje y\n",
    "\n",
    "plt.show()"
   ]
  },
  {
   "cell_type": "markdown",
   "metadata": {},
   "source": [
    "<div style=\"background-color: lightyellow; padding: 10px;\">\n",
    "\n",
    "<span style=\"color: darkblue;\">\n",
    "\n",
    "**Observaciones:**  \n",
    "Con base en los resultados se observa que la varianza también es muy grande (2939822.6) para el promedio de viajes que terminaron en cada barrio de Chicago, lo anterior indica que los datos estan dispersos alrededor de la media, lo cual significa que hay valores atípicos. La suposición anterior se refuerza comparando el valor de la media que es de 599.9 y la mediana tiene un valor de 52, también se observa en el historgrama que la distribución de los datos tiene un sesgo hacia la derecha, hay muchos datos altos que afectan la media.  \n",
    "\n",
    "</span>\n",
    "    \n",
    "</div>"
   ]
  },
  {
   "cell_type": "markdown",
   "metadata": {},
   "source": [
    "### Análisis descriptivo sobre los viajes desde el Loop hasta el Aeropuerto Internacional O'Hare <a id='loop_ohare'></a>"
   ]
  },
  {
   "cell_type": "code",
   "execution_count": 15,
   "metadata": {},
   "outputs": [
    {
     "name": "stdout",
     "output_type": "stream",
     "text": [
      "DataFrame df_loop_ohare:\n",
      "La varianza para la duración del viaje es: 592070.4\n",
      "La moda para la duración del viaje es: 1380.0\n",
      "count    1068.000000\n",
      "mean     2071.731273\n",
      "std       769.461125\n",
      "min         0.000000\n",
      "25%      1438.250000\n",
      "50%      1980.000000\n",
      "75%      2580.000000\n",
      "max      7440.000000\n",
      "Name: duration_seconds, dtype: float64\n"
     ]
    }
   ],
   "source": [
    "print('DataFrame df_loop_ohare:')\n",
    "# Se calcula la varianza con var() para la duración del viaje en segundos\n",
    "print('La varianza para la duración del viaje es:', round(df_loop_ohare['duration_seconds'].var(), 1))\n",
    "# se calcula la moda de los datos con mode() del número de viajes\n",
    "print('La moda para la duración del viaje es:', df_loop_ohare['duration_seconds'].mode()[0])\n",
    "# se emplea el método describe() para calcular los estadísticos descriptivos como la media, mediana, desviación estándar\n",
    "print(df_loop_ohare['duration_seconds'].describe())"
   ]
  },
  {
   "cell_type": "code",
   "execution_count": 16,
   "metadata": {},
   "outputs": [
    {
     "data": {
      "image/png": "[encoded data removed]",
      "text/plain": [
       "<Figure size 1008x576 with 1 Axes>"
      ]
     },
     "metadata": {
      "needs_background": "light"
     },
     "output_type": "display_data"
    }
   ],
   "source": [
    "# se grafica el histograma para df_loop_ohare\n",
    "df_loop_ohare['duration_seconds'].plot(kind='hist',\n",
    "                              bins= 80, \n",
    "                              color= 'darkcyan',\n",
    "                              figsize= [14,8]\n",
    "                             )\n",
    "\n",
    "\n",
    "plt.title(\"Duración del viaje en segundos desde el Loop hasta el Aeropuerto Internacional O'Hare.\", fontsize= 14) # para colocar un título\n",
    "plt.ylabel('Frecuencia', fontsize= 14) # Para nombrar el eje y\n",
    "\n",
    "plt.show()"
   ]
  },
  {
   "cell_type": "markdown",
   "metadata": {},
   "source": [
    "<div style=\"background-color: lightyellow; padding: 10px;\">\n",
    "\n",
    "<span style=\"color: darkblue;\">\n",
    "\n",
    "**Observaciones:**  \n",
    "Con base en los resultados se observa que la varianza también es grande (592070.4) y la desviación estándar es de 769.46 para la duración del viaje desde el Loop hasta el Aeropuerto Internacional O'Hare, lo cual indica que los datos estan relativamente dispersos alrededor de la media, se puede sugerir que hay valores atípicos. Comparando el valor de la media que es de 2071.7 y la mediana tiene un valor de 1980, los valores son cercanos, pero el valor mínimo y máximo son de 0 y 7440, respectivamente,  estos pueden indicar la presencia de datos extremos o atípicos. También se observa en el historgrama que la distribución de los datos no es normal, hay valores muy bajos así como valores muy altos, los cuales afectan la media. El valor de la duración del viaje más frecuente es de 1380 segundos.  \n",
    "    \n",
    "</span>\n",
    "\n",
    "</div>"
   ]
  },
  {
   "cell_type": "markdown",
   "metadata": {},
   "source": [
    "###  Gráficos de las empresas de taxis y los 10 barrios principales por número de finalizaciones <a id='taxi_duration'></a>"
   ]
  },
  {
   "cell_type": "markdown",
   "metadata": {},
   "source": [
    "<span style=\"color: darkgreen;\">\n",
    "\n",
    "Ahora se identifican los 10 principales barrios en términos de finalización del recorrido del DataFrame `df_avg_trips`. Para esto se ordena el DataFrame de mayor a menor la columna `average_trips`\n",
    "\n",
    "</span>\n"
   ]
  },
  {
   "cell_type": "code",
   "execution_count": 17,
   "metadata": {
    "scrolled": true
   },
   "outputs": [
    {
     "data": {
      "text/html": [
       "<div>\n",
       "<style scoped>\n",
       "    .dataframe tbody tr th:only-of-type {\n",
       "        vertical-align: middle;\n",
       "    }\n",
       "\n",
       "    .dataframe tbody tr th {\n",
       "        vertical-align: top;\n",
       "    }\n",
       "\n",
       "    .dataframe thead th {\n",
       "        text-align: right;\n",
       "    }\n",
       "</style>\n",
       "<table border=\"1\" class=\"dataframe\">\n",
       "  <thead>\n",
       "    <tr style=\"text-align: right;\">\n",
       "      <th></th>\n",
       "      <th>dropoff_location_name</th>\n",
       "      <th>average_trips</th>\n",
       "    </tr>\n",
       "  </thead>\n",
       "  <tbody>\n",
       "    <tr>\n",
       "      <th>0</th>\n",
       "      <td>Loop</td>\n",
       "      <td>10727.466667</td>\n",
       "    </tr>\n",
       "    <tr>\n",
       "      <th>1</th>\n",
       "      <td>River North</td>\n",
       "      <td>9523.666667</td>\n",
       "    </tr>\n",
       "    <tr>\n",
       "      <th>2</th>\n",
       "      <td>Streeterville</td>\n",
       "      <td>6664.666667</td>\n",
       "    </tr>\n",
       "    <tr>\n",
       "      <th>3</th>\n",
       "      <td>West Loop</td>\n",
       "      <td>5163.666667</td>\n",
       "    </tr>\n",
       "    <tr>\n",
       "      <th>4</th>\n",
       "      <td>O'Hare</td>\n",
       "      <td>2546.900000</td>\n",
       "    </tr>\n",
       "    <tr>\n",
       "      <th>5</th>\n",
       "      <td>Lake View</td>\n",
       "      <td>2420.966667</td>\n",
       "    </tr>\n",
       "    <tr>\n",
       "      <th>6</th>\n",
       "      <td>Grant Park</td>\n",
       "      <td>2068.533333</td>\n",
       "    </tr>\n",
       "    <tr>\n",
       "      <th>7</th>\n",
       "      <td>Museum Campus</td>\n",
       "      <td>1510.000000</td>\n",
       "    </tr>\n",
       "    <tr>\n",
       "      <th>8</th>\n",
       "      <td>Gold Coast</td>\n",
       "      <td>1364.233333</td>\n",
       "    </tr>\n",
       "    <tr>\n",
       "      <th>9</th>\n",
       "      <td>Sheffield &amp; DePaul</td>\n",
       "      <td>1259.766667</td>\n",
       "    </tr>\n",
       "  </tbody>\n",
       "</table>\n",
       "</div>"
      ],
      "text/plain": [
       "  dropoff_location_name  average_trips\n",
       "0                  Loop   10727.466667\n",
       "1           River North    9523.666667\n",
       "2         Streeterville    6664.666667\n",
       "3             West Loop    5163.666667\n",
       "4                O'Hare    2546.900000\n",
       "5             Lake View    2420.966667\n",
       "6            Grant Park    2068.533333\n",
       "7         Museum Campus    1510.000000\n",
       "8            Gold Coast    1364.233333\n",
       "9    Sheffield & DePaul    1259.766667"
      ]
     },
     "execution_count": 17,
     "metadata": {},
     "output_type": "execute_result"
    }
   ],
   "source": [
    "# Para los principales barrios se toman los datos del DataFrame 'df_avg_trips'se guardan las 10 primeras filas\n",
    "# el top 10  se guarda en df_top10_barrios\n",
    "df_top10_barrios = df_avg_trips.head(10)\n",
    "df_top10_barrios"
   ]
  },
  {
   "cell_type": "markdown",
   "metadata": {},
   "source": [
    "<span style=\"color: darkgreen;\">\n",
    "\n",
    "El top 10 de los principales barrios son: Loop, River North, Streeterville, West Loop, O'Hare, Lake View, Grant Park, Museum Campus, Gold Coast y Sheffield & DePaul.\n",
    "\n",
    "\n",
    "</span>"
   ]
  },
  {
   "cell_type": "markdown",
   "metadata": {},
   "source": [
    "<span style=\"color: darkgreen;\">\n",
    "\n",
    "Ahora se grafican las empresas de los taxis y su número de viajes, también se grafica el top 10 de los principales barrios.\n",
    "\n",
    "\n",
    "</span>"
   ]
  },
  {
   "cell_type": "code",
   "execution_count": 18,
   "metadata": {},
   "outputs": [
    {
     "data": {
      "text/html": [
       "<div>\n",
       "<style scoped>\n",
       "    .dataframe tbody tr th:only-of-type {\n",
       "        vertical-align: middle;\n",
       "    }\n",
       "\n",
       "    .dataframe tbody tr th {\n",
       "        vertical-align: top;\n",
       "    }\n",
       "\n",
       "    .dataframe thead th {\n",
       "        text-align: right;\n",
       "    }\n",
       "</style>\n",
       "<table border=\"1\" class=\"dataframe\">\n",
       "  <thead>\n",
       "    <tr style=\"text-align: right;\">\n",
       "      <th></th>\n",
       "      <th>company_name</th>\n",
       "      <th>trips_amount</th>\n",
       "    </tr>\n",
       "  </thead>\n",
       "  <tbody>\n",
       "    <tr>\n",
       "      <th>0</th>\n",
       "      <td>Flash Cab</td>\n",
       "      <td>19558</td>\n",
       "    </tr>\n",
       "    <tr>\n",
       "      <th>1</th>\n",
       "      <td>Taxi Affiliation Services</td>\n",
       "      <td>11422</td>\n",
       "    </tr>\n",
       "    <tr>\n",
       "      <th>2</th>\n",
       "      <td>Medallion Leasing</td>\n",
       "      <td>10367</td>\n",
       "    </tr>\n",
       "    <tr>\n",
       "      <th>3</th>\n",
       "      <td>Yellow Cab</td>\n",
       "      <td>9888</td>\n",
       "    </tr>\n",
       "    <tr>\n",
       "      <th>4</th>\n",
       "      <td>Taxi Affiliation Service Yellow</td>\n",
       "      <td>9299</td>\n",
       "    </tr>\n",
       "    <tr>\n",
       "      <th>5</th>\n",
       "      <td>Chicago Carriage Cab Corp</td>\n",
       "      <td>9181</td>\n",
       "    </tr>\n",
       "    <tr>\n",
       "      <th>6</th>\n",
       "      <td>City Service</td>\n",
       "      <td>8448</td>\n",
       "    </tr>\n",
       "    <tr>\n",
       "      <th>7</th>\n",
       "      <td>Sun Taxi</td>\n",
       "      <td>7701</td>\n",
       "    </tr>\n",
       "    <tr>\n",
       "      <th>8</th>\n",
       "      <td>Star North Management LLC</td>\n",
       "      <td>7455</td>\n",
       "    </tr>\n",
       "    <tr>\n",
       "      <th>9</th>\n",
       "      <td>Blue Ribbon Taxi Association Inc.</td>\n",
       "      <td>5953</td>\n",
       "    </tr>\n",
       "  </tbody>\n",
       "</table>\n",
       "</div>"
      ],
      "text/plain": [
       "                        company_name  trips_amount\n",
       "0                          Flash Cab         19558\n",
       "1          Taxi Affiliation Services         11422\n",
       "2                  Medallion Leasing         10367\n",
       "3                         Yellow Cab          9888\n",
       "4    Taxi Affiliation Service Yellow          9299\n",
       "5          Chicago Carriage Cab Corp          9181\n",
       "6                       City Service          8448\n",
       "7                           Sun Taxi          7701\n",
       "8          Star North Management LLC          7455\n",
       "9  Blue Ribbon Taxi Association Inc.          5953"
      ]
     },
     "execution_count": 18,
     "metadata": {},
     "output_type": "execute_result"
    }
   ],
   "source": [
    "# Para las empresas de taxis y número de viajes del DataFrame 'df_trips_company'se guardan las 10 primeras filas\n",
    "# el top 10  se guarda en df_top10_taxis\n",
    "df_top10_taxis = df_trips_company.head(10)\n",
    "df_top10_taxis"
   ]
  },
  {
   "cell_type": "code",
   "execution_count": 19,
   "metadata": {},
   "outputs": [
    {
     "data": {
      "image/png": "[encoded data removed]",
      "text/plain": [
       "<Figure size 720x576 with 1 Axes>"
      ]
     },
     "metadata": {
      "needs_background": "light"
     },
     "output_type": "display_data"
    }
   ],
   "source": [
    "# ahora se grafica el top 10 de las compañias de taxis\n",
    "df_top10_taxis.plot(x= 'company_name',\n",
    "                    y= 'trips_amount',\n",
    "                    kind= 'barh',\n",
    "                    figsize= [10,8],\n",
    "                    color= 'darkblue',\n",
    "                    legend= False\n",
    "                      )\n",
    "\n",
    "plt.title('Top 10 de empresas de Taxis con más Viajes', fontsize= 15)\n",
    "plt.xlabel('Cantidad de Viajes', fontsize= 12)\n",
    "plt.ylabel('Nombre de la Empresa', fontsize= 12)\n",
    "                       \n",
    "plt.show()"
   ]
  },
  {
   "cell_type": "code",
   "execution_count": 20,
   "metadata": {},
   "outputs": [
    {
     "data": {
      "image/png": "[encoded data removed]",
      "text/plain": [
       "<Figure size 864x432 with 1 Axes>"
      ]
     },
     "metadata": {
      "needs_background": "light"
     },
     "output_type": "display_data"
    }
   ],
   "source": [
    "# ahora se grafica el top 10 de los barrios\n",
    "df_top10_barrios.plot(x= 'dropoff_location_name',\n",
    "                    y= 'average_trips',\n",
    "                    kind= 'bar',\n",
    "                    figsize= [12,6],\n",
    "                    color= 'darkgreen',\n",
    "                    legend= False,\n",
    "                    rot= 45\n",
    "                      )\n",
    "\n",
    "plt.title('Top 10 de los barrios y sus Viajes Promedio', fontsize= 15)\n",
    "plt.xlabel('Nombre del barrio', fontsize= 12)\n",
    "plt.ylabel('Promedio de Viajes', fontsize= 12)\n",
    "                       \n",
    "plt.show()"
   ]
  },
  {
   "cell_type": "markdown",
   "metadata": {},
   "source": [
    "<div style=\"background-color: lightyellow; padding: 10px;\">\n",
    "\n",
    "<span style=\"color: darkblue;\">\n",
    "\n",
    "**Conclusiones:**  \n",
    "Las dos principales compañias con más viajes en los días el 15 y 16 de noviembre de 2017 son Flash Cab y Taxi Affiliation Services con más de 10,000 viajes en sólo dos días. Mientras que, el promedio de viajes que terminaron pricipalmente en dos barrios de Chicago, que fueron Loop y River North, por lo tanto, se puede sospechar que las dos empresas de taxis antes mencionadas hicieron la mayoría de sus viajes a estos barrios.  \n",
    "\n",
    "</span>\n",
    "\n",
    "</div>"
   ]
  },
  {
   "cell_type": "markdown",
   "metadata": {},
   "source": [
    "## Prueba de Hipótesis <a id='hipotesis'></a>"
   ]
  },
  {
   "cell_type": "markdown",
   "metadata": {},
   "source": [
    "<span style=\"color: darkgreen;\">\n",
    "\n",
    "**Prueba de hipótesis**  \n",
    "Ho: La duración promedio de los viajes desde el Loop hasta el Aeropuerto Internacional\n",
    "O'Hare es igual en los días con condiciones de climáticas malas y los días con condiciones de climáticas buenas.  \n",
    "Ha: La duración promedio de los viajes desde el Loop hasta el Aeropuerto Internacional\n",
    "O'Hare es diferente en los días con condiciones de climáticas malas y los días con condiciones de climáticas buenas.  \n",
    "Para probar la hipótesis se empleará la función `scipy.stats.ttest_ind(array1, array2, equal_var)`.  \n",
    "Se empleará el DataFrame `df_loop_ohare` que contiene los datos sobre viajes desde el Loop hasta el Aeropuerto Internacional O'Hare, se filtra el DataFrame para cada condición climática (Good y Bad) y después para cada DataFrame resultante con los datos se pasarán como argumento la columna `duration_seconds` en los parámetros `array1` y `array2`, respectivamente.  \n",
    "    \n",
    "Para determinar el valor del parámetro `equal_var` se hace un test de levene para saber si las varianzas son iguales o diferentes. \n",
    "El valor de alfa será de 5 % (0.05).    \n",
    "</span>"
   ]
  },
  {
   "cell_type": "code",
   "execution_count": 21,
   "metadata": {},
   "outputs": [],
   "source": [
    "# se filtra el DataFrame df_loop_ohare donde sólo se tengan los datos de las condiciones climáticas buenas (Good)\n",
    "df_loop_ohare_good = df_loop_ohare[df_loop_ohare['weather_conditions'] == 'Good']\n",
    "# se filtra el DataFrame df_loop_ohare donde sólo se tengan los datos de las condiciones climáticas malas (Bad)\n",
    "df_loop_ohare_bad = df_loop_ohare[df_loop_ohare['weather_conditions'] == 'Bad']"
   ]
  },
  {
   "cell_type": "markdown",
   "metadata": {},
   "source": [
    "<div style=\"background-color: lightyellow; padding: 10px;\">\n",
    "<span style=\"color: darkgreen;\">\n",
    "\n",
    "La hipótesis nula (H0) en el test de Levene es que todas las poblaciones tienen varianzas iguales.  \n",
    "La hipótesis alternativa (Ha) es que al menos una de las poblaciones tiene una varianza diferente.\n",
    "    \n",
    "</span>\n",
    "    \n",
    "</div>"
   ]
  },
  {
   "cell_type": "code",
   "execution_count": 22,
   "metadata": {},
   "outputs": [
    {
     "name": "stdout",
     "output_type": "stream",
     "text": [
      "El valor p en el test de levene es: 0.5332038671974493\n",
      "No se rechaza la hipótesis nula\n"
     ]
    }
   ],
   "source": [
    "# se realiza el test de levene para realizar una prueba de igualdad de varianzas entre los dos grupos\n",
    "alpha= 0.05\n",
    "duration_levene_results = st.levene(df_loop_ohare_good['duration_seconds'], df_loop_ohare_bad['duration_seconds'])\n",
    "\n",
    "print('El valor p en el test de levene es:', duration_levene_results.pvalue)\n",
    "\n",
    "if duration_levene_results.pvalue < alpha:\n",
    "    print('Se rechaza la hipótesis nula')\n",
    "else:\n",
    "    print('No se rechaza la hipótesis nula')"
   ]
  },
  {
   "cell_type": "markdown",
   "metadata": {},
   "source": [
    "<div style=\"background-color: lightyellow; padding: 10px;\">\n",
    "<span style=\"color: darkgreen;\">\n",
    "\n",
    "De acuerdo al resultado del test de levene no se rechaza la hipótesis nula, por lo que las varianzas son iguales. Entonces el parámetro `equal_var` se deja de forma predeterminada en `True`.\n",
    "    \n",
    "</span>\n",
    "    \n",
    "</div>"
   ]
  },
  {
   "cell_type": "code",
   "execution_count": 23,
   "metadata": {},
   "outputs": [
    {
     "name": "stdout",
     "output_type": "stream",
     "text": [
      "El valor p es: 6.517970327099473e-12\n",
      "Se rechaza la hipótesis nula\n"
     ]
    }
   ],
   "source": [
    "# Se prueba las hipótesis\n",
    "# valor de alfa\n",
    "alpha= 0.05\n",
    "# se asigna el resultado en 'results_score'\n",
    "results_duration = st.ttest_ind(df_loop_ohare_good['duration_seconds'], df_loop_ohare_bad['duration_seconds'])\n",
    "\n",
    "print('El valor p es:', results_duration.pvalue)\n",
    "\n",
    "if results_duration.pvalue < alpha:\n",
    "    print('Se rechaza la hipótesis nula')\n",
    "else:\n",
    "    print('No se rechaza la hipótesis nula')"
   ]
  },
  {
   "cell_type": "markdown",
   "metadata": {},
   "source": [
    "<span style=\"color: darkgreen;\">\n",
    "\n",
    "Se calcula el promedio de la duración de los viajes cuando las condiciones climáticas son buenas y cuando son malas.\n",
    "    \n",
    "</span>"
   ]
  },
  {
   "cell_type": "code",
   "execution_count": 24,
   "metadata": {},
   "outputs": [
    {
     "name": "stdout",
     "output_type": "stream",
     "text": [
      "La duración promedio en buenas condiciones climáticas son 33 minutos.\n"
     ]
    }
   ],
   "source": [
    "# se calcula el promedio de duración con mean() para un buen clima\n",
    "weather_good_mean_seg = df_loop_ohare_good['duration_seconds'].mean()\n",
    "# se transforma a minutos\n",
    "weather_good_mean_min = weather_good_mean_seg / 60\n",
    "print(f'La duración promedio en buenas condiciones climáticas son {round(weather_good_mean_min)} minutos.')"
   ]
  },
  {
   "cell_type": "code",
   "execution_count": 25,
   "metadata": {},
   "outputs": [
    {
     "name": "stdout",
     "output_type": "stream",
     "text": [
      "La duración promedio en malas condiciones climáticas son 40 minutos.\n"
     ]
    }
   ],
   "source": [
    "# se calcula el promedio de duración con mean() para un mal clima\n",
    "weather_bad_mean_seg = df_loop_ohare_bad['duration_seconds'].mean()\n",
    "# se transforma a minutos\n",
    "weather_bad_mean_min = weather_bad_mean_seg / 60\n",
    "print(f'La duración promedio en malas condiciones climáticas son {round(weather_bad_mean_min)} minutos.')"
   ]
  },
  {
   "cell_type": "markdown",
   "metadata": {},
   "source": [
    "<div style=\"background-color: lightyellow; padding: 10px;\">\n",
    "<span style=\"color: black;\">\n",
    "\n",
    "**Conclusiones:**  \n",
    "De acuerdo al resultado, podemos rechazar la hipótesis nula de que la duración promedio de los viajes desde el Loop hasta el Aeropuerto Internacional O'Hare es igual en los días con condiciones de climáticas malas y los días con condiciones de climáticas buenas son iguales. El resultado indica que la duración de los viajes cuando las condiciones del clima son buenas y cuando son malas es diferente con una confianza estadística del 95%.\n",
    "    \n",
    "</span>\n",
    "    \n",
    "</div>"
   ]
  },
  {
   "cell_type": "markdown",
   "metadata": {},
   "source": [
    "## Resumen y Conclusión General <a id='end'></a>"
   ]
  },
  {
   "cell_type": "markdown",
   "metadata": {},
   "source": [
    "<div style=\"background-color: lightyellow; padding: 10px;\">\n",
    "\n",
    "<span style=\"color: darkblue;\">\n",
    "    \n",
    "**Resumen General de los pasos seguidos:**  \n",
    "1. Análisis de Datos Climáticos en Chicago (noviembre de 2017): se escribió el código para analizar datos climáticos desde el sitio web proporcionado.  \n",
    "2. Análisis Exploratorio de Datos con SQL:  \n",
    "Se encontraron el número de viajes en taxi para cada empresa del 15 al 16 de noviembre de 2017.  \n",
    "Se encontraron la cantidad de viajes para empresas cuyo nombre contenga \"Yellow\" o \"Blue\" del 1 al 7 de noviembre de 2017.  \n",
    "Se encontraron el número de viajes para Flash Cab y Taxi Affiliation Services, agrupar otros como \"Other\" y ordenar en orden descendente por cantidad de viajes.  \n",
    "3. Recupración de datos para la Prueba de Hipótesis sobre Duración de Viajes los Sábados Lluviosos:  \n",
    "Se recuperaron identificadores de barrios de O'Hare y Loop.  \n",
    "Para cada hora, se recuperaron registros de condiciones meteorológicas y clasificar como \"Bad\" o \"Good\".  \n",
    "Se recuperaro viajes desde el Loop hasta O'Hare los sábados, incluyendo condiciones climáticas y duración.  \n",
    "\n",
    "4. Análisis Exploratorio de Datos con Python:  \n",
    "Se importaron y estudiaron dos archivos CSV (`project_sql_result_01.csv` y `project_sql_result_04.csv`).  \n",
    "Se revisaron que los tipos de datos fueran correctos.  \n",
    "Se identificaron los 10 principales barrios en términos de finalización de viajes.  \n",
    "Se crearon gráficos para empresas de taxis y número de viajes, los 10 principales barrios por finalizaciones.  \n",
    "\n",
    "5. Prueba de Hipótesis con Python:  \n",
    "Se empleó el archivo `project_sql_result_07.csv`.  \n",
    "Se hizo la Prueba de la hipótesis y se explicó la formulación de hipótesis nula y alternativa.\n",
    "\n",
    "</span>\n",
    "\n",
    "</div>"
   ]
  },
  {
   "cell_type": "markdown",
   "metadata": {},
   "source": [
    "<div style=\"background-color: lightyellow; padding: 10px;\">\n",
    "\n",
    "<span style=\"color: darkblue;\">\n",
    "    \n",
    "**Conclusión General:**  \n",
    "• Los días 16 y 17 de novimebre los usuarios prefirieron usar los servicios de taxi de las compañias Flash Cab y Taxi Affiliation Services con 19558 y 11422 viajes, respectivamente.  \n",
    "• En noviembre el promedio de viajes que terminaron pricipalmente en dos barrios de Chicago, en Loop y River North con 10727.4 y 9523.6 viajes en promedio, respectivamente. Además, el Aeropuerto Internacional O'Hare ocupa el lugar 5 del top 10 de barrios principales por número de finalizaciones.   \n",
    "• La duración promedio de los viajes desde el Loop hasta el Aeropuerto Internacional O'Hare es diferente en los días con condiciones de climáticas malas y los días con condiciones de climáticas buenas. En promedio la duración de los viajes con condiciones climáticas buenas son 33 minutos y con malas condiciones son 40 minutos.  \n",
    "    \n",
    "</span>\n",
    "\n",
    "</div>"
   ]
  },
  {
   "cell_type": "markdown",
   "metadata": {},
   "source": []
  }
 ],
 "metadata": {
  "kernelspec": {
   "display_name": "Python 3 (ipykernel)",
   "language": "python",
   "name": "python3"
  },
  "language_info": {
   "codemirror_mode": {
    "name": "ipython",
    "version": 3
   },
   "file_extension": ".py",
   "mimetype": "text/x-python",
   "name": "python",
   "nbconvert_exporter": "python",
   "pygments_lexer": "ipython3",
   "version": "3.9.5"
  },
  "toc": {
   "base_numbering": 1,
   "nav_menu": {},
   "number_sections": true,
   "sideBar": true,
   "skip_h1_title": true,
   "title_cell": "Table of Contents",
   "title_sidebar": "Contents",
   "toc_cell": false,
   "toc_position": {},
   "toc_section_display": true,
   "toc_window_display": false
  }
 },
 "nbformat": 4,
 "nbformat_minor": 2
}
